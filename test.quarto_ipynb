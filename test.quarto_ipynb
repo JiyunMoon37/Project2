{
  "cells": [
    {
      "cell_type": "markdown",
      "metadata": {},
      "source": [
        "---\n",
        "title: \"Penguin Bills\"\n",
        "format: dashboard\n",
        "server: shiny\n",
        "---"
      ],
      "id": "2850c908"
    },
    {
      "cell_type": "code",
      "metadata": {},
      "source": [
        "import seaborn as sns\n",
        "penguins = sns.load_dataset(\"penguins\")"
      ],
      "id": "1d2bfd5b",
      "execution_count": null,
      "outputs": []
    },
    {
      "cell_type": "markdown",
      "metadata": {},
      "source": [
        "## {.sidebar}\n"
      ],
      "id": "2a5a16b2"
    },
    {
      "cell_type": "code",
      "metadata": {},
      "source": [
        "from shiny.express import render, ui\n",
        "ui.input_select(\"x\", \"Variable:\",\n",
        "                choices=[\"bill_length_mm\", \"bill_depth_mm\"])\n",
        "ui.input_select(\"dist\", \"Distribution:\", choices=[\"hist\", \"kde\"])\n",
        "ui.input_checkbox(\"rug\", \"Show rug marks\", value = False)"
      ],
      "id": "b281c277",
      "execution_count": null,
      "outputs": []
    },
    {
      "cell_type": "markdown",
      "metadata": {},
      "source": [
        "## Column\n"
      ],
      "id": "258184b7"
    },
    {
      "cell_type": "code",
      "metadata": {},
      "source": [
        "@render.plot\n",
        "def displot():\n",
        "    sns.displot(\n",
        "        data=penguins, hue=\"species\", multiple=\"stack\",\n",
        "        x=input.x(), rug=input.rug(), kind=input.dist())"
      ],
      "id": "5f2d3e4f",
      "execution_count": null,
      "outputs": []
    }
  ],
  "metadata": {
    "kernelspec": {
      "name": "python3",
      "language": "python",
      "display_name": "Python 3 (ipykernel)",
      "path": "C:\\DS\\Python\\Python312\\share\\jupyter\\kernels\\python3"
    }
  },
  "nbformat": 4,
  "nbformat_minor": 5
}