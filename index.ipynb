{
  "cells": [
    {
      "cell_type": "raw",
      "metadata": {},
      "source": [
        "---\n",
        "title: \"Housing Market at a Glance\"\n",
        "format: \n",
        "  dashboard:\n",
        "    theme: [litera, custom.scss]\n",
        "    orientation: columns\n",
        "logo: logo.png\n",
        "---"
      ],
      "id": "d7cdfc6f"
    },
    {
      "cell_type": "code",
      "metadata": {},
      "source": [
        "#| label: setup\n",
        "#| include: false\n",
        "import pandas as pd\n",
        "import plotly.express as px\n",
        "import plotly.io as pio\n",
        "\n",
        "pio.templates.default = 'plotly_white'\n",
        "data_files = ['data/weekly_mortgage_rates.csv', 'data/hoi.csv', 'data/mortgage_origination_state.csv']\n",
        "data_frames = [pd.read_csv(file).sort_values(by='date') for file in data_files]\n",
        "\n",
        "mortgages, hoi, origin = data_frames"
      ],
      "id": "setup",
      "execution_count": null,
      "outputs": []
    },
    {
      "cell_type": "code",
      "metadata": {},
      "source": [
        "#| label: create-graphs\n",
        "#| output: false\n",
        "\n",
        "# Mortgage rates over time\n",
        "fig = px.line(mortgages, x='date', y=['fixed_30', 'fixed_15'], title='Interest Rates 15- and 30-Year')\n",
        "fig.update_traces(name='30-year', selector=dict(name='fixed_30'))\n",
        "fig.update_traces(name='15-year', selector=dict(name='fixed_15'))\n",
        "fig.update_xaxes(title_text='')\n",
        "fig.update_yaxes(title_text='')\n",
        "fig.update_layout(legend_title_text='')\n",
        "\n",
        "# Housing opportunity index\n",
        "hoi_fig = px.line(hoi, x='date', y='hoi', title='Housing Opportunity Index<br><sup>Percentage of homes affordable to median-income families</sup>')\n",
        "hoi_fig.update_xaxes(title_text='')\n",
        "hoi_fig.update_yaxes(title_text='')\n",
        "\n",
        "# Mortgage origination\n",
        "origin_fig = px.choropleth(origin, scope='usa', locations='GEOID', locationmode='USA-states', color='MORT_ADJ', color_continuous_scale='Jet', animation_frame='date', range_color=(0.009, 0.073))\n",
        "origin_fig.update_traces(showscale=False)\n",
        "origin_fig.update_layout(coloraxis_colorbar=dict(title=''))\n",
        "\n",
        "# Median home prices\n",
        "price_fig = px.bar(hoi, x='date', y='median_price')\n",
        "price_fig.update_xaxes(title_text='')\n",
        "price_fig.update_yaxes(title_text='Median Home Price (thousands $)')"
      ],
      "id": "create-graphs",
      "execution_count": null,
      "outputs": []
    },
    {
      "cell_type": "markdown",
      "metadata": {},
      "source": [
        "# Stats\n",
        "\n",
        "## Column {width=\"20%\"}\n",
        "\n",
        "::: {.valuebox color=\"white\"}\n",
        "`{python} mortgages['fixed_30'].iloc[-1]`%\n",
        "\n",
        "Average annual rate for a 30-year fixed mortgage in Oct. 2023\n",
        ":::\n",
        "\n",
        "::: {.valuebox color=\"white\"}\n",
        "`{python} mortgages['fixed_15'].iloc[-1]`%\n",
        "\n",
        "Average annual rate for a 15-year fixed mortgage in Oct. 2023\n",
        ":::\n",
        "\n",
        "::: {.valuebox color=\"white\"}\n",
        "$`{python} hoi['median_price'].iloc[-1]`k\n",
        "\n",
        "National median home price\n",
        ":::\n",
        "\n",
        "## Column \n"
      ],
      "id": "bd8202af"
    },
    {
      "cell_type": "code",
      "metadata": {
        "title": "Mortgage Originations per Capita",
        "height": "50%"
      },
      "source": [
        "origin_fig.show()"
      ],
      "id": "6e95de42",
      "execution_count": null,
      "outputs": []
    },
    {
      "cell_type": "code",
      "metadata": {
        "title": "Mortage Originations",
        "height": "50%",
        "padding": "0;"
      },
      "source": [
        "from IPython.display import Markdown\n",
        "Markdown(mortgages.to_markdown(index = False))"
      ],
      "id": "3fcd7c3c",
      "execution_count": null,
      "outputs": []
    },
    {
      "cell_type": "markdown",
      "metadata": {},
      "source": [
        "## Column {.tabset width=\"40%\"}\n"
      ],
      "id": "27ba5962"
    },
    {
      "cell_type": "code",
      "metadata": {
        "title": "Housing Economics"
      },
      "source": [
        "fig.show()\n",
        "hoi_fig.show()"
      ],
      "id": "66586e33",
      "execution_count": null,
      "outputs": []
    },
    {
      "cell_type": "code",
      "metadata": {
        "title": "Median Price"
      },
      "source": [
        "price_fig.show()"
      ],
      "id": "4ee7026a",
      "execution_count": null,
      "outputs": []
    },
    {
      "cell_type": "markdown",
      "metadata": {},
      "source": [
        "# Data\n",
        "\n",
        "The data is from the National Association Of Home Builders Of The United States (NAHB). [Access the NAHB website](https://www.nahb.org/).\n",
        "\n",
        "*  [Mortgage Interest Rates 15- and 30-Year](https://www.nahb.org/news-and-economics/housing-economics/national-statistics/weekly-mortgage-rates-15-and-30-year)\n",
        "*  [Housing Opportunity Index and Median Home Prices](https://www.nahb.org/news-and-economics/housing-economics/indices/housing-opportunity-index)"
      ],
      "id": "cb7f920b"
    }
  ],
  "metadata": {
    "kernelspec": {
      "name": "python3",
      "language": "python",
      "display_name": "Python 3 (ipykernel)"
    }
  },
  "nbformat": 4,
  "nbformat_minor": 5
}